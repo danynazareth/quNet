{
 "cells": [
  {
   "cell_type": "code",
   "execution_count": 15,
   "id": "b5b02367",
   "metadata": {},
   "outputs": [],
   "source": [
    "import random\n",
    "import networkx as nx\n",
    "\n",
    "class Node:\n",
    "    def __init__(self,identificacao, _lat,_long,_borda=False):\n",
    "        self.id = identificacao\n",
    "        self.latitude = _lat\n",
    "        self.longitude =_long\n",
    "        self.borda = _borda\n",
    "\n",
    "    \n",
    "    def getInfo(self):\n",
    "        return {\"id\":self.id, \n",
    "                \"x\":self.latitude, \n",
    "                \"y\":self.longitude,\n",
    "                \"borda\":self.borda}   \n",
    "\n",
    "class Canal:\n",
    "    def __init__(self, _porta, _tamanho, _material,_natureza, _tipo):\n",
    "        \n",
    "        self.porta = _porta\n",
    "        self.tamanho = _tamanho\n",
    "        self.material = _material\n",
    "        self.natureza = _natureza\n",
    "        self.tipo = _tipo\n",
    "        \n",
    "    \n",
    "class Topologia:\n",
    "    def __init__(self):\n",
    "        self.network = nx.MultiGraph()\n",
    "        \n",
    "    def addCanal(self,_origem,_destino, _canal = None):\n",
    "        \n",
    "        self.network.add_edge(_origem.id, _destino.id, _canal.natureza)\n",
    "\n",
    "#     def getInfo(self):\n",
    "#         json = {}\n",
    "#         for x in t.network.edges.data():\n",
    "#             adjascente_origem = list(t.network.adj.copy()[x[0]])\n",
    "#             adjascente_destino = list(t.network.adj.copy()[x[1]])\n",
    "           \n",
    "#             json[(x[0],x[1],x[2]['type_network'],x[2]['link'])] = \n",
    "#                            [x[2]['info_from'].getInfo(),adjascente_origem\n",
    "#                             x[2]['info_to'].getInfo(),adjascente_destino]\n",
    "\n",
    "#         return json\n",
    "        \n"
   ]
  },
  {
   "cell_type": "code",
   "execution_count": 18,
   "id": "f9ff2e18",
   "metadata": {},
   "outputs": [],
   "source": [
    "a = Node('A',3.4,32.4,False)\n",
    "b = Node('B',43.4,5.4,False)\n",
    "c = Node('C',5.4,8.4,False)\n",
    "d = Node('D',8.4,23.4,False)"
   ]
  },
  {
   "cell_type": "code",
   "execution_count": 19,
   "id": "6ae60467",
   "metadata": {},
   "outputs": [],
   "source": [
    "# (self,origem, destino, porta,tamanho,material,natureza,tipo):\n",
    "\n",
    "ch1 = Canal(a,b,80,20,'fotons','quantica','wireless')\n",
    "ch2 = Canal(d,b,40,30,'cobre','classica','cabo')\n",
    "ch3 = Canal(c,d,40,10,'ondas eletromagnéticos','classica','satelite')\n",
    "ch4 = Canal(a,d,200,10,'fribra ótica','classica','cabo')\n",
    "ch5 = Canal(b,d,160,10,'cobre','classica','cabo')\n"
   ]
  },
  {
   "cell_type": "code",
   "execution_count": 21,
   "id": "d229975d",
   "metadata": {
    "scrolled": true
   },
   "outputs": [],
   "source": [
    "\n",
    "t= Topologia()\n"
   ]
  },
  {
   "cell_type": "markdown",
   "id": "6ba542fe",
   "metadata": {},
   "source": [
    "{(769, 766, 'cl', 1 ): [{'id': 769, 'x': 3.4, 'y': 32.4, 'edge': False, 'neighborhood': [766]}, {'id': 766, 'x': 43.4, 'y': 5.4, 'edge': False, 'neighborhood': [769, 706]}], \n",
    " (769, 766, 'cl', 2): [{'id': 766, 'x': 43.4, 'y': 5.4, 'edge': False, 'neighborhood': [766]}, {'id': 769, 'x': 3.4, 'y': 32.4, 'edge': False, 'neighborhood': [769, 706]}], \n",
    " (769, 766, 'qu', 1): [{'id': 766, 'x': 43.4, 'y': 5.4, 'edge': False, 'neighborhood': [766]}, {'id': 769, 'x': 3.4, 'y': 32.4, 'edge': False, 'neighborhood': [769, 706]}], \n",
    " (766, 706, 'qu', 1): [{'id': 706, 'x': 5.4, 'y': 8.4, 'edge': False, 'neighborhood': [769, 706]}, {'id': 766, 'x': 43.4, 'y': 5.4, 'edge': False, 'neighborhood': [766, 868]}], \n",
    " (706, 868, 'cl', 1): [{'id': 868, 'x': 8.4, 'y': 23.4, 'edge': False, 'neighborhood': [766, 868]}, {'id': 706, 'x': 5.4, 'y': 8.4, 'edge': False, 'neighborhood': [706]}]}"
   ]
  },
  {
   "cell_type": "code",
   "execution_count": null,
   "id": "bb38b9d0",
   "metadata": {},
   "outputs": [],
   "source": []
  },
  {
   "cell_type": "code",
   "execution_count": null,
   "id": "302ceb41",
   "metadata": {},
   "outputs": [],
   "source": []
  },
  {
   "cell_type": "code",
   "execution_count": null,
   "id": "6cdec661",
   "metadata": {},
   "outputs": [],
   "source": []
  },
  {
   "cell_type": "code",
   "execution_count": null,
   "id": "32679213",
   "metadata": {},
   "outputs": [],
   "source": []
  },
  {
   "cell_type": "code",
   "execution_count": null,
   "id": "348ba4b3",
   "metadata": {},
   "outputs": [],
   "source": []
  },
  {
   "cell_type": "code",
   "execution_count": null,
   "id": "e7c3e0df",
   "metadata": {},
   "outputs": [],
   "source": []
  },
  {
   "cell_type": "code",
   "execution_count": null,
   "id": "55aace4b",
   "metadata": {},
   "outputs": [],
   "source": []
  },
  {
   "cell_type": "code",
   "execution_count": null,
   "id": "a5c58cd6",
   "metadata": {},
   "outputs": [],
   "source": []
  }
 ],
 "metadata": {
  "kernelspec": {
   "display_name": "Python 3 (ipykernel)",
   "language": "python",
   "name": "python3"
  },
  "language_info": {
   "codemirror_mode": {
    "name": "ipython",
    "version": 3
   },
   "file_extension": ".py",
   "mimetype": "text/x-python",
   "name": "python",
   "nbconvert_exporter": "python",
   "pygments_lexer": "ipython3",
   "version": "3.9.12"
  }
 },
 "nbformat": 4,
 "nbformat_minor": 5
}
